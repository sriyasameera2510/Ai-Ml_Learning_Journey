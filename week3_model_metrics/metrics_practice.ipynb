{
 "cells": [
  {
   "cell_type": "code",
   "execution_count": 2,
   "id": "dd8bf730",
   "metadata": {},
   "outputs": [
    {
     "name": "stdout",
     "output_type": "stream",
     "text": [
      "Requirement already satisfied: pandas in /Users/SAMEERA/anaconda3/lib/python3.11/site-packages (1.5.3)\n",
      "Requirement already satisfied: numpy in /Users/SAMEERA/anaconda3/lib/python3.11/site-packages (1.24.3)\n",
      "Requirement already satisfied: matplotlib in /Users/SAMEERA/anaconda3/lib/python3.11/site-packages (3.7.1)\n",
      "Requirement already satisfied: seaborn in /Users/SAMEERA/anaconda3/lib/python3.11/site-packages (0.12.2)\n",
      "Requirement already satisfied: python-dateutil>=2.8.1 in /Users/SAMEERA/anaconda3/lib/python3.11/site-packages (from pandas) (2.8.2)\n",
      "Requirement already satisfied: pytz>=2020.1 in /Users/SAMEERA/anaconda3/lib/python3.11/site-packages (from pandas) (2022.7)\n",
      "Requirement already satisfied: contourpy>=1.0.1 in /Users/SAMEERA/anaconda3/lib/python3.11/site-packages (from matplotlib) (1.0.5)\n",
      "Requirement already satisfied: cycler>=0.10 in /Users/SAMEERA/anaconda3/lib/python3.11/site-packages (from matplotlib) (0.11.0)\n",
      "Requirement already satisfied: fonttools>=4.22.0 in /Users/SAMEERA/anaconda3/lib/python3.11/site-packages (from matplotlib) (4.25.0)\n",
      "Requirement already satisfied: kiwisolver>=1.0.1 in /Users/SAMEERA/anaconda3/lib/python3.11/site-packages (from matplotlib) (1.4.4)\n",
      "Requirement already satisfied: packaging>=20.0 in /Users/SAMEERA/anaconda3/lib/python3.11/site-packages (from matplotlib) (23.0)\n",
      "Requirement already satisfied: pillow>=6.2.0 in /Users/SAMEERA/anaconda3/lib/python3.11/site-packages (from matplotlib) (9.4.0)\n",
      "Requirement already satisfied: pyparsing>=2.3.1 in /Users/SAMEERA/anaconda3/lib/python3.11/site-packages (from matplotlib) (3.0.9)\n",
      "Requirement already satisfied: six>=1.5 in /Users/SAMEERA/anaconda3/lib/python3.11/site-packages (from python-dateutil>=2.8.1->pandas) (1.16.0)\n",
      "Note: you may need to restart the kernel to use updated packages.\n"
     ]
    }
   ],
   "source": [
    "pip install pandas numpy matplotlib seaborn"
   ]
  },
  {
   "cell_type": "markdown",
   "id": "8851d6d8",
   "metadata": {},
   "source": [
    "# Splitting the data into traning and testing set"
   ]
  },
  {
   "cell_type": "code",
   "execution_count": 6,
   "id": "66e2d8c7",
   "metadata": {},
   "outputs": [
    {
     "name": "stdout",
     "output_type": "stream",
     "text": [
      "Train: (623, 12)\n",
      "Test: (268, 12)\n"
     ]
    }
   ],
   "source": [
    "import pandas as pd\n",
    "from sklearn.model_selection import train_test_split\n",
    "\n",
    "# Load dataset\n",
    "df = pd.read_csv(\"../week2_numpy_pandas/data/titanic.csv\")\n",
    "\n",
    "# Split into train and test\n",
    "train_df, test_df = train_test_split(df, test_size=0.3, random_state=42)\n",
    "\n",
    "# Check shapes\n",
    "print(\"Train:\", train_df.shape)\n",
    "print(\"Test:\", test_df.shape)"
   ]
  },
  {
   "cell_type": "markdown",
   "id": "4bd92577",
   "metadata": {},
   "source": [
    "# Manual confusion matrix calculation"
   ]
  },
  {
   "cell_type": "code",
   "execution_count": 8,
   "id": "ad3d5a5f",
   "metadata": {},
   "outputs": [
    {
     "name": "stdout",
     "output_type": "stream",
     "text": [
      "Accuracy: 0.85\n",
      "Precision: 0.75\n",
      "Recall: 0.86\n",
      "F1 Score: 0.80\n"
     ]
    }
   ],
   "source": [
    "TP, FP, FN, TN = 30, 10, 5, 55\n",
    "\n",
    "accuracy = (TP + TN) / (TP + FP + FN + TN)\n",
    "precision = TP / (TP + FP)\n",
    "recall = TP / (TP + FN)\n",
    "f1 = 2 * (precision * recall) / (precision + recall)\n",
    "\n",
    "print(f\"Accuracy: {accuracy:.2f}\")\n",
    "print(f\"Precision: {precision:.2f}\")\n",
    "print(f\"Recall: {recall:.2f}\")\n",
    "print(f\"F1 Score: {f1:.2f}\")"
   ]
  },
  {
   "cell_type": "markdown",
   "id": "5331191a",
   "metadata": {},
   "source": [
    "# Visualizing confusion matrix"
   ]
  },
  {
   "cell_type": "code",
   "execution_count": 9,
   "id": "fc37a0d1",
   "metadata": {},
   "outputs": [
    {
     "data": {
      "text/plain": [
       "<sklearn.metrics._plot.confusion_matrix.ConfusionMatrixDisplay at 0x130e01290>"
      ]
     },
     "execution_count": 9,
     "metadata": {},
     "output_type": "execute_result"
    },
    {
     "data": {
      "image/png": "[encoded data removed]",
      "text/plain": [
       "<Figure size 640x480 with 2 Axes>"
      ]
     },
     "metadata": {},
     "output_type": "display_data"
    }
   ],
   "source": [
    "from sklearn.metrics import confusion_matrix, ConfusionMatrixDisplay\n",
    "\n",
    "# Simple prediction: predict all females survived\n",
    "y_true = test_df['Survived']\n",
    "y_pred = test_df['Sex'].map(lambda x: 1 if x == 'female' else 0)\n",
    "\n",
    "cm = confusion_matrix(y_true, y_pred)\n",
    "disp = ConfusionMatrixDisplay(confusion_matrix=cm, display_labels=['Did not survive', 'Survived'])\n",
    "disp.plot()"
   ]
  },
  {
   "cell_type": "markdown",
   "id": "006191fc",
   "metadata": {},
   "source": [
    "# Validate metrics with sklearn"
   ]
  },
  {
   "cell_type": "code",
   "execution_count": 10,
   "id": "56719275",
   "metadata": {},
   "outputs": [
    {
     "name": "stdout",
     "output_type": "stream",
     "text": [
      "Accuracy: 0.7910447761194029\n",
      "Precision: 0.7722772277227723\n",
      "Recall: 0.7027027027027027\n",
      "F1 Score: 0.7358490566037735\n"
     ]
    }
   ],
   "source": [
    "from sklearn.metrics import accuracy_score, precision_score, recall_score, f1_score\n",
    "\n",
    "print(\"Accuracy:\", accuracy_score(y_true, y_pred))\n",
    "print(\"Precision:\", precision_score(y_true, y_pred))\n",
    "print(\"Recall:\", recall_score(y_true, y_pred))\n",
    "print(\"F1 Score:\", f1_score(y_true, y_pred))"
   ]
  },
  {
   "cell_type": "markdown",
   "id": "3798379e",
   "metadata": {},
   "source": [
    "# Bias vs Variance"
   ]
  },
  {
   "cell_type": "markdown",
   "id": "bea26479",
   "metadata": {},
   "source": [
    "Bias and Variance help us understand a model’s prediction errors and guide us in choosing and tuning models.\n",
    "Bias measures how much a model’s predictions differ from the actual values — high bias means the model is too simple and underfits the data.\n",
    "Variance measures how much the model’s predictions change when using different training data — high variance means the model is too complex and overfits the training data but may fail on new data.\n",
    "For example, predicting survival using only gender may have high bias, while using too many features with a small dataset may have high variance."
   ]
  },
  {
   "cell_type": "markdown",
   "id": "8274b1da",
   "metadata": {},
   "source": [
    "# Precision vs Recall"
   ]
  },
  {
   "cell_type": "markdown",
   "id": "d01ec2c2",
   "metadata": {},
   "source": [
    "Precision and Recall help us understand the quality of a classifier’s positive predictions.\n",
    "Precision is the percentage of predicted positives that are actually correct — high precision means few false positives.\n",
    "Recall is the percentage of actual positives that are correctly identified — high recall means few false negatives.\n",
    "Example:\n",
    "For a cancer screening test, we usually care more about high recall — we want to catch as many true cancer cases as possible, even if it means some false alarms.\n",
    "For a spam filter, we may care more about high precision — we don’t want to accidentally mark legitimate emails as spam.\n",
    "Depending on the problem, we prioritize precision or recall to balance false positives vs false negatives.\n",
    "For Titanic, you could say: If we over-predict survival (false positives), precision drops. If we miss actual survivors, recall drops."
   ]
  },
  {
   "cell_type": "code",
   "execution_count": null,
   "id": "0a9282e3",
   "metadata": {},
   "outputs": [],
   "source": []
  }
 ],
 "metadata": {
  "kernelspec": {
   "display_name": "Python 3 (ipykernel)",
   "language": "python",
   "name": "python3"
  },
  "language_info": {
   "codemirror_mode": {
    "name": "ipython",
    "version": 3
   },
   "file_extension": ".py",
   "mimetype": "text/x-python",
   "name": "python",
   "nbconvert_exporter": "python",
   "pygments_lexer": "ipython3",
   "version": "3.11.4"
  }
 },
 "nbformat": 4,
 "nbformat_minor": 5
}
