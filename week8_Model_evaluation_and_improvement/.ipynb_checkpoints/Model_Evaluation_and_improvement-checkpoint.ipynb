{
 "cells": [
  {
   "cell_type": "code",
   "execution_count": 1,
   "id": "0f71b411-bc78-44fb-9828-605d547272d3",
   "metadata": {
    "tags": []
   },
   "outputs": [],
   "source": [
    "import pandas as pd\n",
    "import numpy as np\n",
    "from sklearn.model_selection import train_test_split, cross_val_score, GridSearchCV\n",
    "from sklearn.linear_model import LogisticRegression\n",
    "from sklearn.ensemble import RandomForestClassifier\n",
    "from sklearn.metrics import confusion_matrix, classification_report, roc_curve, auc, precision_recall_curve\n",
    "import matplotlib.pyplot as plt\n",
    "import seaborn as sns"
   ]
  },
  {
   "cell_type": "markdown",
   "id": "021707c9-afdd-481a-994a-d6e6f5272c9f",
   "metadata": {},
   "source": [
    "## Load and prepare dataset"
   ]
  },
  {
   "cell_type": "code",
   "execution_count": 2,
   "id": "361bae74-fdda-4854-b77b-92cc9e5022a2",
   "metadata": {
    "tags": []
   },
   "outputs": [],
   "source": [
    "df = pd.read_csv(\"../week6_end_to_end_ML_project/data/heart.csv.xls\")\n",
    "\n",
    "# Preprocessing steps (dummy encoding as needed)\n",
    "df = pd.get_dummies(df, drop_first=True)\n",
    "\n",
    "# Define X and y\n",
    "X = df.drop(\"HeartDisease\", axis=1)\n",
    "y = df[\"HeartDisease\"]\n",
    "\n",
    "# Train-test split\n",
    "X_train, X_test, y_train, y_test = train_test_split(X, y, test_size=0.2, random_state=42)"
   ]
  },
  {
   "cell_type": "markdown",
   "id": "5765dc84-1f0d-43eb-a1a0-49dac244fa46",
   "metadata": {},
   "source": [
    "## Cross-validation"
   ]
  },
  {
   "cell_type": "code",
   "execution_count": 3,
   "id": "624079fb-6ba5-4949-84f2-703c41eb60aa",
   "metadata": {
    "tags": []
   },
   "outputs": [
    {
     "name": "stdout",
     "output_type": "stream",
     "text": [
      "Cross-validation scores: [0.85326087 0.8423913  0.83695652 0.86885246 0.76502732]\n",
      "Mean accuracy: 0.8332976954145878\n"
     ]
    }
   ],
   "source": [
    "model = LogisticRegression(max_iter=1000)\n",
    "scores = cross_val_score(model, X, y, cv=5)\n",
    "print(\"Cross-validation scores:\", scores)\n",
    "print(\"Mean accuracy:\", scores.mean())"
   ]
  },
  {
   "cell_type": "markdown",
   "id": "34871b65-5cd0-4136-ac16-a3982c1682a8",
   "metadata": {},
   "source": [
    "## Hyperparameter Tuning with GridsearchCV"
   ]
  },
  {
   "cell_type": "code",
   "execution_count": 4,
   "id": "c1a59cd1-109f-4594-8d08-4d31a2eaeff5",
   "metadata": {
    "tags": []
   },
   "outputs": [
    {
     "name": "stdout",
     "output_type": "stream",
     "text": [
      "Best Parameters: {'max_depth': None, 'n_estimators': 200}\n",
      "Best Score: 0.8746249184605348\n"
     ]
    }
   ],
   "source": [
    "param_grid = {\n",
    "    'n_estimators': [50, 100, 200],\n",
    "    'max_depth': [None, 5, 10]\n",
    "}\n",
    "rf = RandomForestClassifier(random_state=42)\n",
    "grid_search = GridSearchCV(rf, param_grid, cv=5)\n",
    "grid_search.fit(X_train, y_train)\n",
    "print(\"Best Parameters:\", grid_search.best_params_)\n",
    "print(\"Best Score:\", grid_search.best_score_)"
   ]
  },
  {
   "cell_type": "markdown",
   "id": "7e248910-217c-43fc-9733-aaf4bfb545fb",
   "metadata": {},
   "source": [
    "## ROC curve"
   ]
  },
  {
   "cell_type": "code",
   "execution_count": 6,
   "id": "f7595c19-ae5e-4211-833e-5b1fff49613d",
   "metadata": {
    "tags": []
   },
   "outputs": [
    {
     "data": {
      "image/png": "[encoded data removed]",
      "text/plain": [
       "<Figure size 640x480 with 1 Axes>"
      ]
     },
     "metadata": {},
     "output_type": "display_data"
    }
   ],
   "source": [
    "fpr, tpr, _ = roc_curve(y_test, logreg.predict_proba(X_test)[:, 1])\n",
    "roc_auc = auc(fpr, tpr)\n",
    "plt.plot(fpr, tpr, label=f'ROC Curve (AUC = {roc_auc:.2f})')\n",
    "plt.xlabel('False Positive Rate')\n",
    "plt.ylabel('True Positive Rate')\n",
    "plt.title('ROC Curve')\n",
    "plt.legend()\n",
    "plt.grid()\n",
    "plt.show()"
   ]
  },
  {
   "cell_type": "markdown",
   "id": "f8cc7a0c-515a-4fe2-8a4a-44e9317025a7",
   "metadata": {},
   "source": [
    "## Model training and evaluation"
   ]
  },
  {
   "cell_type": "code",
   "execution_count": 7,
   "id": "f00a13f8-a941-4823-8991-58e70d2c1ea1",
   "metadata": {
    "tags": []
   },
   "outputs": [
    {
     "name": "stdout",
     "output_type": "stream",
     "text": [
      "Logistic Regression Report:\n",
      "               precision    recall  f1-score   support\n",
      "\n",
      "           0       0.80      0.87      0.83        77\n",
      "           1       0.90      0.84      0.87       107\n",
      "\n",
      "    accuracy                           0.85       184\n",
      "   macro avg       0.85      0.86      0.85       184\n",
      "weighted avg       0.86      0.85      0.85       184\n",
      "\n"
     ]
    }
   ],
   "source": [
    "from sklearn.linear_model import LogisticRegression\n",
    "from sklearn.tree import DecisionTreeClassifier\n",
    "from sklearn.ensemble import RandomForestClassifier\n",
    "from sklearn.metrics import classification_report\n",
    "\n",
    "# Logistic Regression\n",
    "logreg = LogisticRegression(penalty='l2', solver='liblinear')\n",
    "logreg.fit(X_train, y_train)\n",
    "y_pred_logreg = logreg.predict(X_test)\n",
    "print(\"Logistic Regression Report:\\n\", classification_report(y_test, y_pred_logreg))"
   ]
  },
  {
   "cell_type": "code",
   "execution_count": 8,
   "id": "1ba77868-4523-405b-92b8-81513234d01b",
   "metadata": {
    "tags": []
   },
   "outputs": [
    {
     "name": "stdout",
     "output_type": "stream",
     "text": [
      "Decision Tree Report:\n",
      "               precision    recall  f1-score   support\n",
      "\n",
      "           0       0.82      0.83      0.83        77\n",
      "           1       0.88      0.87      0.87       107\n",
      "\n",
      "    accuracy                           0.85       184\n",
      "   macro avg       0.85      0.85      0.85       184\n",
      "weighted avg       0.85      0.85      0.85       184\n",
      "\n"
     ]
    }
   ],
   "source": [
    "# Decision Tree\n",
    "dtree = DecisionTreeClassifier()\n",
    "dtree.fit(X_train, y_train)\n",
    "y_pred_dtree = dtree.predict(X_test)\n",
    "print(\"Decision Tree Report:\\n\", classification_report(y_test, y_pred_dtree))"
   ]
  },
  {
   "cell_type": "code",
   "execution_count": 9,
   "id": "e5ef7e64-a929-43e5-be10-2a806b8a45eb",
   "metadata": {
    "tags": []
   },
   "outputs": [
    {
     "name": "stdout",
     "output_type": "stream",
     "text": [
      "Random Forest Report:\n",
      "               precision    recall  f1-score   support\n",
      "\n",
      "           0       0.85      0.86      0.85        77\n",
      "           1       0.90      0.89      0.89       107\n",
      "\n",
      "    accuracy                           0.88       184\n",
      "   macro avg       0.87      0.87      0.87       184\n",
      "weighted avg       0.88      0.88      0.88       184\n",
      "\n"
     ]
    }
   ],
   "source": [
    "# Random Forest\n",
    "rf = RandomForestClassifier()\n",
    "rf.fit(X_train, y_train)\n",
    "y_pred_rf = rf.predict(X_test)\n",
    "print(\"Random Forest Report:\\n\", classification_report(y_test, y_pred_rf))"
   ]
  },
  {
   "cell_type": "code",
   "execution_count": null,
   "id": "8cb0586c-7629-45df-a6e3-a58997d468cc",
   "metadata": {},
   "outputs": [],
   "source": []
  }
 ],
 "metadata": {
  "kernelspec": {
   "display_name": "Python 3 (ipykernel)",
   "language": "python",
   "name": "python3"
  },
  "language_info": {
   "codemirror_mode": {
    "name": "ipython",
    "version": 3
   },
   "file_extension": ".py",
   "mimetype": "text/x-python",
   "name": "python",
   "nbconvert_exporter": "python",
   "pygments_lexer": "ipython3",
   "version": "3.11.4"
  }
 },
 "nbformat": 4,
 "nbformat_minor": 5
}
