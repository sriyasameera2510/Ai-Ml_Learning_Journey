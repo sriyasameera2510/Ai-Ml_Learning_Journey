{
 "cells": [
  {
   "cell_type": "code",
   "execution_count": 1,
   "id": "8669f674-6422-4e1f-adff-58404d0f8227",
   "metadata": {},
   "outputs": [],
   "source": [
    "import pandas as pd\n",
    "import numpy as np\n",
    "from sklearn.datasets import load_iris\n",
    "from sklearn.model_selection import train_test_split, GridSearchCV, RandomizedSearchCV\n",
    "from sklearn.ensemble import RandomForestClassifier\n",
    "from sklearn.metrics import classification_report\n",
    "import matplotlib.pyplot as plt\n",
    "import seaborn as sns"
   ]
  },
  {
   "cell_type": "markdown",
   "id": "ac8d34ff-7ecc-42af-bd30-8bb93b0b81c1",
   "metadata": {},
   "source": [
    "## Load dataset"
   ]
  },
  {
   "cell_type": "code",
   "execution_count": 2,
   "id": "935dc586-a248-40ef-b85f-97c570822ba7",
   "metadata": {},
   "outputs": [],
   "source": [
    "data = load_iris()\n",
    "X = pd.DataFrame(data.data, columns=data.feature_names)\n",
    "y = pd.Series(data.target)\n",
    "\n",
    "X_train, X_test, y_train, y_test = train_test_split(X, y, test_size=0.2, random_state=42)"
   ]
  },
  {
   "cell_type": "markdown",
   "id": "6b080edf-75c7-4c46-8d6b-d2ee38931ab7",
   "metadata": {},
   "source": [
    "# Base Model"
   ]
  },
  {
   "cell_type": "code",
   "execution_count": 3,
   "id": "967fa1c1-0111-4c77-a3a1-2b66b797e625",
   "metadata": {},
   "outputs": [
    {
     "name": "stdout",
     "output_type": "stream",
     "text": [
      "              precision    recall  f1-score   support\n",
      "\n",
      "           0       1.00      1.00      1.00        10\n",
      "           1       1.00      1.00      1.00         9\n",
      "           2       1.00      1.00      1.00        11\n",
      "\n",
      "    accuracy                           1.00        30\n",
      "   macro avg       1.00      1.00      1.00        30\n",
      "weighted avg       1.00      1.00      1.00        30\n",
      "\n"
     ]
    }
   ],
   "source": [
    "rf = RandomForestClassifier(random_state=42)\n",
    "rf.fit(X_train, y_train)\n",
    "y_pred = rf.predict(X_test)\n",
    "print(classification_report(y_test, y_pred))"
   ]
  },
  {
   "cell_type": "markdown",
   "id": "6a48e682-05d5-406e-9407-449c845a131f",
   "metadata": {},
   "source": [
    "# Gridsearch CV"
   ]
  },
  {
   "cell_type": "code",
   "execution_count": 4,
   "id": "e32d8085-b51d-42d2-a5aa-a55f3f1cb26e",
   "metadata": {},
   "outputs": [
    {
     "name": "stdout",
     "output_type": "stream",
     "text": [
      "Best Parameters (GridSearchCV): {'max_depth': None, 'min_samples_split': 2, 'n_estimators': 10}\n",
      "Best Score (GridSearchCV): 0.95\n"
     ]
    }
   ],
   "source": [
    "param_grid = {\n",
    "    'n_estimators': [10, 50, 100],\n",
    "    'max_depth': [None, 5, 10],\n",
    "    'min_samples_split': [2, 5, 10]\n",
    "}\n",
    "\n",
    "grid_search = GridSearchCV(RandomForestClassifier(random_state=42), param_grid, cv=5)\n",
    "grid_search.fit(X_train, y_train)\n",
    "\n",
    "print(\"Best Parameters (GridSearchCV):\", grid_search.best_params_)\n",
    "print(\"Best Score (GridSearchCV):\", grid_search.best_score_)"
   ]
  },
  {
   "cell_type": "markdown",
   "id": "9405513c-3945-4b38-b1d2-ca5ef45d1e4d",
   "metadata": {},
   "source": [
    "# Random search CV"
   ]
  },
  {
   "cell_type": "code",
   "execution_count": 5,
   "id": "088e5b6f-9e96-4018-8a19-67801c3d7758",
   "metadata": {},
   "outputs": [
    {
     "name": "stdout",
     "output_type": "stream",
     "text": [
      "Best Parameters (RandomizedSearchCV): {'max_depth': 10, 'min_samples_split': 5, 'n_estimators': 102}\n",
      "Best Score (RandomizedSearchCV): 0.95\n"
     ]
    }
   ],
   "source": [
    "from scipy.stats import randint\n",
    "\n",
    "param_dist = {\n",
    "    'n_estimators': randint(10, 200),\n",
    "    'max_depth': [None, 5, 10, 15],\n",
    "    'min_samples_split': randint(2, 11)\n",
    "}\n",
    "\n",
    "random_search = RandomizedSearchCV(RandomForestClassifier(random_state=42), param_distributions=param_dist, n_iter=10, cv=5, random_state=42)\n",
    "random_search.fit(X_train, y_train)\n",
    "\n",
    "print(\"Best Parameters (RandomizedSearchCV):\", random_search.best_params_)\n",
    "print(\"Best Score (RandomizedSearchCV):\", random_search.best_score_)"
   ]
  },
  {
   "cell_type": "markdown",
   "id": "377aed39-8ff8-463d-8e67-585122980ecd",
   "metadata": {},
   "source": [
    "# Evaluation on test set"
   ]
  },
  {
   "cell_type": "code",
   "execution_count": 8,
   "id": "9695fc21-108c-415f-b7c9-d4ab2a9b7550",
   "metadata": {},
   "outputs": [
    {
     "name": "stdout",
     "output_type": "stream",
     "text": [
      "GridSearchCV Best Model:\n",
      "              precision    recall  f1-score   support\n",
      "\n",
      "           0       1.00      1.00      1.00        10\n",
      "           1       1.00      1.00      1.00         9\n",
      "           2       1.00      1.00      1.00        11\n",
      "\n",
      "    accuracy                           1.00        30\n",
      "   macro avg       1.00      1.00      1.00        30\n",
      "weighted avg       1.00      1.00      1.00        30\n",
      "\n",
      "RandomizedSearchCV Best Model:\n",
      "              precision    recall  f1-score   support\n",
      "\n",
      "           0       1.00      1.00      1.00        10\n",
      "           1       1.00      1.00      1.00         9\n",
      "           2       1.00      1.00      1.00        11\n",
      "\n",
      "    accuracy                           1.00        30\n",
      "   macro avg       1.00      1.00      1.00        30\n",
      "weighted avg       1.00      1.00      1.00        30\n",
      "\n"
     ]
    }
   ],
   "source": [
    "# Get the best estimators\n",
    "best_grid_model = grid_search.best_estimator_\n",
    "best_random_model = random_search.best_estimator_\n",
    "\n",
    "# Evaluate both on test data\n",
    "from sklearn.metrics import classification_report\n",
    "\n",
    "print(\"GridSearchCV Best Model:\")\n",
    "y_pred_grid = best_grid_model.predict(X_test)\n",
    "print(classification_report(y_test, y_pred_grid))\n",
    "\n",
    "print(\"RandomizedSearchCV Best Model:\")\n",
    "y_pred_random = best_random_model.predict(X_test)\n",
    "print(classification_report(y_test, y_pred_random))\n"
   ]
  },
  {
   "cell_type": "code",
   "execution_count": null,
   "id": "59fb1576-24ef-437d-b8b8-c1b994a26dec",
   "metadata": {},
   "outputs": [],
   "source": []
  }
 ],
 "metadata": {
  "kernelspec": {
   "display_name": "Python 3 (ipykernel)",
   "language": "python",
   "name": "python3"
  },
  "language_info": {
   "codemirror_mode": {
    "name": "ipython",
    "version": 3
   },
   "file_extension": ".py",
   "mimetype": "text/x-python",
   "name": "python",
   "nbconvert_exporter": "python",
   "pygments_lexer": "ipython3",
   "version": "3.11.4"
  }
 },
 "nbformat": 4,
 "nbformat_minor": 5
}
